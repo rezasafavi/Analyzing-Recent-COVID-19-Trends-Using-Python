{
 "cells": [
  {
   "cell_type": "code",
   "execution_count": 1,
   "id": "4459ed41",
   "metadata": {},
   "outputs": [],
   "source": [
    "# Data Collection \n",
    "# Data Pre Processing\n",
    "# EDA\n",
    "# Conclusions"
   ]
  },
  {
   "cell_type": "code",
   "execution_count": null,
   "id": "3c5b4c39",
   "metadata": {},
   "outputs": [],
   "source": [
    "from bs4 import BeautifulSoup as soup\n",
    "from datetime import date,datetime\n",
    "from urllib.request import Request,urlopen\n",
    "import pandas as pd\n",
    "import numpy as np"
   ]
  },
  {
   "cell_type": "code",
   "execution_count": null,
   "id": "c544aa0e",
   "metadata": {},
   "outputs": [],
   "source": [
    "import matplotlib.pyplot as plt\n",
    "import plotly.graph_objects as go \n",
    "import plotly.express as px\n",
    "import plotly.offline as py \n",
    "import seaborn as sns\n",
    "import gc \n",
    "import warnings\n",
    "warnings.filterwarnings(\"ignore\")\n",
    "from pandas_profiling import profile_reportr"
   ]
  },
  {
   "cell_type": "code",
   "execution_count": null,
   "id": "a44a20d3",
   "metadata": {},
   "outputs": [],
   "source": [
    "url = \"https://www.worldometers.info/coronavirus/#countries\"\n",
    "req = Request(url , headers={'User-Agent':\"mozilla/5.0\"})\n",
    "webpage = urlopen(req)\n",
    "page_soup = soup(webpage ,\"html.parser\")\n",
    "print(page_soup)"
   ]
  },
  {
   "cell_type": "code",
   "execution_count": 4,
   "id": "cac2b57f",
   "metadata": {},
   "outputs": [
    {
     "data": {
      "text/plain": [
       "'Jan 18,2023'"
      ]
     },
     "execution_count": 4,
     "metadata": {},
     "output_type": "execute_result"
    }
   ],
   "source": [
    "today= datetime.now()\n",
    "yesterday_str = \"%s %d,%d\" % (date.today().strftime(\"%b\"),today.day-1 , today.year)\n",
    "yesterday_str"
   ]
  },
  {
   "cell_type": "code",
   "execution_count": null,
   "id": "efbfdffb",
   "metadata": {},
   "outputs": [],
   "source": [
    "table = page_soup.findAll(\"table\",{\"id\":\"main_table_countries_yesterday\"})\n",
    "\n",
    "containers = table[0].findAll(\"tr\",{\"style\":\"\"})\n",
    "title = containers[0]\n",
    "\n",
    "del containers[0]\n",
    "\n",
    "\n",
    "all_data = []\n",
    "clean = True\n",
    "for country in containers:\n",
    "    country_data=[]\n",
    "    country_container = country.findAll(\"td\")\n",
    "    \n",
    "    if country_container[1].text == \"china\":\n",
    "        continue\n",
    "    for i in range(1, len(country_container)):\n",
    "        final_feature = country_container[i].text\n",
    "        if clean:\n",
    "            if i != 1 and i != len(country_container)-1:\n",
    "                final_feature=final_feature.replace(\",\",\"\")\n",
    "                        \n",
    "                if final_feature.find('+') != -1:\n",
    "                    final_feature = final_feature.replace(\"+\",\"\")\n",
    "                    final_feature = float(final_feature)\n",
    "                elif final_feature.find(\"-\") != -1:\n",
    "                    final_feature = final_feature.replace(\"-\",\"\")\n",
    "                    final_feature = float(final_feature)*-1\n",
    "        if final_feature == \"N/A\":\n",
    "            final_feature = 0\n",
    "        elif final_feature == \"\" or final_feature == \" \":\n",
    "            final_feature = -1\n",
    "                        \n",
    "        country_data.append(final_feature)\n",
    "                \n",
    "    all_data.append(country_data)\n",
    "            \n",
    "        "
   ]
  },
  {
   "cell_type": "code",
   "execution_count": null,
   "id": "9e8874c5",
   "metadata": {},
   "outputs": [],
   "source": [
    "all_data"
   ]
  },
  {
   "cell_type": "code",
   "execution_count": null,
   "id": "785e6e0e",
   "metadata": {},
   "outputs": [],
   "source": [
    "df = pd.DataFrame(all_data)\n",
    "df.drop([15,16,17],inplace=True , axis=1)\n",
    "df.head()"
   ]
  },
  {
   "cell_type": "code",
   "execution_count": 10,
   "id": "ca91ae9e",
   "metadata": {},
   "outputs": [
    {
     "ename": "NameError",
     "evalue": "name 'df' is not defined",
     "output_type": "error",
     "traceback": [
      "\u001b[1;31m---------------------------------------------------------------------------\u001b[0m",
      "\u001b[1;31mNameError\u001b[0m                                 Traceback (most recent call last)",
      "Input \u001b[1;32mIn [10]\u001b[0m, in \u001b[0;36m<module>\u001b[1;34m\u001b[0m\n\u001b[0;32m      1\u001b[0m column_labels \u001b[38;5;241m=\u001b[39m [\u001b[38;5;124m\"\u001b[39m\u001b[38;5;124mCountry\u001b[39m\u001b[38;5;124m\"\u001b[39m, \u001b[38;5;124m\"\u001b[39m\u001b[38;5;124mTotal Cases\u001b[39m\u001b[38;5;124m\"\u001b[39m,\u001b[38;5;124m\"\u001b[39m\u001b[38;5;124mNew Cases\u001b[39m\u001b[38;5;124m\"\u001b[39m,\u001b[38;5;124m\"\u001b[39m\u001b[38;5;124mTotal Deaths\u001b[39m\u001b[38;5;124m\"\u001b[39m,\u001b[38;5;124m\"\u001b[39m\u001b[38;5;124mNew Deaths\u001b[39m\u001b[38;5;124m\"\u001b[39m,\u001b[38;5;124m\"\u001b[39m\u001b[38;5;124mTotal Recovered\u001b[39m\u001b[38;5;124m\"\u001b[39m,\u001b[38;5;124m\"\u001b[39m\u001b[38;5;124mNew Recoverd\u001b[39m\u001b[38;5;124m\"\u001b[39m, \n\u001b[0;32m      2\u001b[0m                 \u001b[38;5;124m\"\u001b[39m\u001b[38;5;124mActive Cases\u001b[39m\u001b[38;5;124m\"\u001b[39m,\u001b[38;5;124m\"\u001b[39m\u001b[38;5;124mSerious/Critical\u001b[39m\u001b[38;5;124m\"\u001b[39m,\u001b[38;5;124m\"\u001b[39m\u001b[38;5;124mTotal Cases/1M\u001b[39m\u001b[38;5;124m\"\u001b[39m,\u001b[38;5;124m\"\u001b[39m\u001b[38;5;124mDeaths/1M\u001b[39m\u001b[38;5;124m\"\u001b[39m,\u001b[38;5;124m\"\u001b[39m\u001b[38;5;124mTotal Tests\u001b[39m\u001b[38;5;124m\"\u001b[39m,\u001b[38;5;124m\"\u001b[39m\u001b[38;5;124mTest/1M\u001b[39m\u001b[38;5;124m\"\u001b[39m ,\u001b[38;5;124m\"\u001b[39m\u001b[38;5;124mPopulation\u001b[39m\u001b[38;5;124m\"\u001b[39m,\u001b[38;5;124m\"\u001b[39m\u001b[38;5;124mContinent\u001b[39m\u001b[38;5;124m\"\u001b[39m]\n\u001b[1;32m----> 3\u001b[0m \u001b[43mdf\u001b[49m\u001b[38;5;241m.\u001b[39mcolumns\u001b[38;5;241m=\u001b[39mcolumn_labels\n",
      "\u001b[1;31mNameError\u001b[0m: name 'df' is not defined"
     ]
    }
   ],
   "source": [
    "column_labels = [\"Country\", \"Total Cases\",\"New Cases\",\"Total Deaths\",\"New Deaths\",\"Total Recovered\",\"New Recoverd\", \n",
    "                \"Active Cases\",\"Serious/Critical\",\"Total Cases/1M\",\"Deaths/1M\",\"Total Tests\",\"Test/1M\" ,\"Population\",\"Continent\"]\n",
    "df.columns=column_labels"
   ]
  },
  {
   "cell_type": "code",
   "execution_count": null,
   "id": "20624ffe",
   "metadata": {},
   "outputs": [],
   "source": [
    "df.head()"
   ]
  },
  {
   "cell_type": "code",
   "execution_count": null,
   "id": "9dfec5eb",
   "metadata": {},
   "outputs": [],
   "source": [
    "for label in df.columns:\n",
    "    if label != \"Country\" and label != \"Continent\":\n",
    "        df[label]=pd.to_numeric(df[label])"
   ]
  },
  {
   "cell_type": "code",
   "execution_count": null,
   "id": "a9ba15b5",
   "metadata": {},
   "outputs": [],
   "source": [
    "df[\"%Inc Cases\"] = df[\"New Cases\"]/df[\"Total Cases\"]*100\n",
    "df[\"%Inc Deaths\"] = df[\"New Deaths\"]/df[\"Total Deaths\"]*100\n",
    "df[\"%Inc Recovered\"] = df[\"New Recovered\"]/df[\"Total Recovered\"]*100\n"
   ]
  },
  {
   "cell_type": "code",
   "execution_count": 27,
   "id": "f71c8a10",
   "metadata": {},
   "outputs": [
    {
     "data": {
      "text/html": [
       "<div>\n",
       "<style scoped>\n",
       "    .dataframe tbody tr th:only-of-type {\n",
       "        vertical-align: middle;\n",
       "    }\n",
       "\n",
       "    .dataframe tbody tr th {\n",
       "        vertical-align: top;\n",
       "    }\n",
       "\n",
       "    .dataframe thead th {\n",
       "        text-align: right;\n",
       "    }\n",
       "</style>\n",
       "<table border=\"1\" class=\"dataframe\">\n",
       "  <thead>\n",
       "    <tr style=\"text-align: right;\">\n",
       "      <th></th>\n",
       "      <th>0</th>\n",
       "      <th>1</th>\n",
       "      <th>2</th>\n",
       "      <th>3</th>\n",
       "      <th>4</th>\n",
       "      <th>5</th>\n",
       "      <th>6</th>\n",
       "      <th>7</th>\n",
       "      <th>8</th>\n",
       "      <th>9</th>\n",
       "      <th>10</th>\n",
       "      <th>11</th>\n",
       "      <th>12</th>\n",
       "      <th>13</th>\n",
       "      <th>14</th>\n",
       "      <th>18</th>\n",
       "      <th>19</th>\n",
       "      <th>20</th>\n",
       "    </tr>\n",
       "  </thead>\n",
       "  <tbody>\n",
       "    <tr>\n",
       "      <th>0</th>\n",
       "      <td>World</td>\n",
       "      <td>672189588</td>\n",
       "      <td>269078.0</td>\n",
       "      <td>6736602</td>\n",
       "      <td>1588.0</td>\n",
       "      <td>643636275</td>\n",
       "      <td>369725.0</td>\n",
       "      <td>21816711</td>\n",
       "      <td>45009</td>\n",
       "      <td>86236</td>\n",
       "      <td>864.2</td>\n",
       "      <td>-1</td>\n",
       "      <td>-1</td>\n",
       "      <td>-1</td>\n",
       "      <td>All</td>\n",
       "      <td>-1</td>\n",
       "      <td>-1</td>\n",
       "      <td>-1</td>\n",
       "    </tr>\n",
       "    <tr>\n",
       "      <th>1</th>\n",
       "      <td>China</td>\n",
       "      <td>503302</td>\n",
       "      <td>-1.0</td>\n",
       "      <td>5272</td>\n",
       "      <td>-1.0</td>\n",
       "      <td>379053</td>\n",
       "      <td>-1.0</td>\n",
       "      <td>118977</td>\n",
       "      <td>7557</td>\n",
       "      <td>347</td>\n",
       "      <td>4</td>\n",
       "      <td>160000000</td>\n",
       "      <td>110461</td>\n",
       "      <td>1448471400</td>\n",
       "      <td>Asia</td>\n",
       "      <td>-1</td>\n",
       "      <td>-1</td>\n",
       "      <td>82</td>\n",
       "    </tr>\n",
       "    <tr>\n",
       "      <th>2</th>\n",
       "      <td>USA</td>\n",
       "      <td>103701168</td>\n",
       "      <td>26157.0</td>\n",
       "      <td>1127059</td>\n",
       "      <td>348.0</td>\n",
       "      <td>100619072</td>\n",
       "      <td>126107.0</td>\n",
       "      <td>1955037</td>\n",
       "      <td>4332</td>\n",
       "      <td>309736</td>\n",
       "      <td>3366</td>\n",
       "      <td>1157390529</td>\n",
       "      <td>3456907</td>\n",
       "      <td>334805269</td>\n",
       "      <td>North America</td>\n",
       "      <td>78</td>\n",
       "      <td>1</td>\n",
       "      <td>5,839</td>\n",
       "    </tr>\n",
       "    <tr>\n",
       "      <th>3</th>\n",
       "      <td>India</td>\n",
       "      <td>44681884</td>\n",
       "      <td>-1.0</td>\n",
       "      <td>530728</td>\n",
       "      <td>-1.0</td>\n",
       "      <td>44148815</td>\n",
       "      <td>170.0</td>\n",
       "      <td>2341</td>\n",
       "      <td>698</td>\n",
       "      <td>31765</td>\n",
       "      <td>377</td>\n",
       "      <td>913255016</td>\n",
       "      <td>649250</td>\n",
       "      <td>1406631776</td>\n",
       "      <td>Asia</td>\n",
       "      <td>-1</td>\n",
       "      <td>-1</td>\n",
       "      <td>2</td>\n",
       "    </tr>\n",
       "    <tr>\n",
       "      <th>4</th>\n",
       "      <td>France</td>\n",
       "      <td>39467281</td>\n",
       "      <td>5894.0</td>\n",
       "      <td>163644</td>\n",
       "      <td>82.0</td>\n",
       "      <td>39106811</td>\n",
       "      <td>24337.0</td>\n",
       "      <td>196826</td>\n",
       "      <td>869</td>\n",
       "      <td>601777</td>\n",
       "      <td>2495</td>\n",
       "      <td>271490188</td>\n",
       "      <td>4139547</td>\n",
       "      <td>65584518</td>\n",
       "      <td>Europe</td>\n",
       "      <td>90</td>\n",
       "      <td>1</td>\n",
       "      <td>3,001</td>\n",
       "    </tr>\n",
       "  </tbody>\n",
       "</table>\n",
       "</div>"
      ],
      "text/plain": [
       "       0          1         2                                        3   \\\n",
       "0   World  672189588  269078.0                                  6736602   \n",
       "1   China     503302      -1.0     5272                                   \n",
       "2     USA  103701168   26157.0  1127059                                   \n",
       "3   India   44681884      -1.0   530728                                   \n",
       "4  France   39467281    5894.0   163644                                   \n",
       "\n",
       "       4          5         6         7      8       9      10          11  \\\n",
       "0  1588.0  643636275  369725.0  21816711  45009   86236  864.2          -1   \n",
       "1    -1.0     379053      -1.0    118977   7557     347      4   160000000   \n",
       "2   348.0  100619072  126107.0   1955037   4332  309736   3366  1157390529   \n",
       "3    -1.0   44148815     170.0      2341    698   31765    377   913255016   \n",
       "4    82.0   39106811   24337.0    196826    869  601777   2495   271490188   \n",
       "\n",
       "        12                                          13             14  18  19  \\\n",
       "0       -1                                          -1            All  -1  -1   \n",
       "1   110461  1448471400                                           Asia  -1  -1   \n",
       "2  3456907                                  334805269   North America  78   1   \n",
       "3   649250                                 1406631776            Asia  -1  -1   \n",
       "4  4139547                                   65584518          Europe  90   1   \n",
       "\n",
       "      20  \n",
       "0     -1  \n",
       "1     82  \n",
       "2  5,839  \n",
       "3      2  \n",
       "4  3,001  "
      ]
     },
     "execution_count": 27,
     "metadata": {},
     "output_type": "execute_result"
    }
   ],
   "source": [
    "df.head()"
   ]
  },
  {
   "cell_type": "code",
   "execution_count": null,
   "id": "af7a5cf6",
   "metadata": {},
   "outputs": [],
   "source": [
    "cases = df[[\"Total Recovered\", \"Active Cases\",\"Total Deaths\"]].loc[0]\n",
    "\n",
    "cases_df = pd.DataFrame(cases).reset_index()\n",
    "cases_df.columns = [\"Type\", \"Total\"]\n",
    "\n",
    "cases_df[\"percentage\"] = np.around(100*cases_df['Total']/np.sum(cases_df[\"Total\"]),2)\n",
    "cases_df[\"virus\"] = [\"COVID-19\" for i in range(len(cases_df))]\n",
    "\n",
    "fig = px.bar(cases_df,x= \"Virus\",y=\"Percentage\",color=\"Type\",hover_data=['Total'])\n",
    "fig.show()"
   ]
  },
  {
   "cell_type": "code",
   "execution_count": 1,
   "id": "13375367",
   "metadata": {},
   "outputs": [
    {
     "ename": "NameError",
     "evalue": "name 'df' is not defined",
     "output_type": "error",
     "traceback": [
      "\u001b[1;31m---------------------------------------------------------------------------\u001b[0m",
      "\u001b[1;31mNameError\u001b[0m                                 Traceback (most recent call last)",
      "Input \u001b[1;32mIn [1]\u001b[0m, in \u001b[0;36m<module>\u001b[1;34m\u001b[0m\n\u001b[1;32m----> 1\u001b[0m cases \u001b[38;5;241m=\u001b[39m \u001b[43mdf\u001b[49m[[\u001b[38;5;124m\"\u001b[39m\u001b[38;5;124mNew Cases\u001b[39m\u001b[38;5;124m\"\u001b[39m, \u001b[38;5;124m\"\u001b[39m\u001b[38;5;124mNew Recoverd\u001b[39m\u001b[38;5;124m\"\u001b[39m,\u001b[38;5;124m\"\u001b[39m\u001b[38;5;124mNew Deaths\u001b[39m\u001b[38;5;124m\"\u001b[39m]]\u001b[38;5;241m.\u001b[39mloc[\u001b[38;5;241m0\u001b[39m]\n\u001b[0;32m      3\u001b[0m cases_df \u001b[38;5;241m=\u001b[39m pd\u001b[38;5;241m.\u001b[39mDataFrame(cases)\u001b[38;5;241m.\u001b[39mreset_index()\n\u001b[0;32m      4\u001b[0m cases_df\u001b[38;5;241m.\u001b[39mcolumns \u001b[38;5;241m=\u001b[39m [\u001b[38;5;124m\"\u001b[39m\u001b[38;5;124mType\u001b[39m\u001b[38;5;124m\"\u001b[39m, \u001b[38;5;124m\"\u001b[39m\u001b[38;5;124mTotal\u001b[39m\u001b[38;5;124m\"\u001b[39m]\n",
      "\u001b[1;31mNameError\u001b[0m: name 'df' is not defined"
     ]
    }
   ],
   "source": [
    "cases = df[[\"New Cases\", \"New Recoverd\",\"New Deaths\"]].loc[0]\n",
    "\n",
    "cases_df = pd.DataFrame(cases).reset_index()\n",
    "cases_df.columns = [\"Type\", \"Total\"]\n",
    "\n",
    "cases_df[\"percentage\"] = np.around(100*cases_df['Total']/np.sum(cases_df[\"Total\"]),2)\n",
    "cases_df[\"virus\"] = [\"COVID-19\" for i in range(len(cases_df))]\n",
    "\n",
    "fig = px.bar(cases_df,x= \"Virus\",y=\"Percentage\",color=\"Type\",hover_data=['Total'])\n",
    "fig.show()"
   ]
  },
  {
   "cell_type": "code",
   "execution_count": null,
   "id": "e986767f",
   "metadata": {},
   "outputs": [],
   "source": [
    "per = np.round(df[[\"%Inc cases\" , \"%Inc Deaths\" ,\"%Inc Recovred\"]].loc[0],2)\n",
    "per-df = pd.DataFrame(per)\n",
    "per_df"
   ]
  },
  {
   "cell_type": "code",
   "execution_count": null,
   "id": "e3e680a4",
   "metadata": {},
   "outputs": [],
   "source": []
  }
 ],
 "metadata": {
  "kernelspec": {
   "display_name": "Python 3 (ipykernel)",
   "language": "python",
   "name": "python3"
  },
  "language_info": {
   "codemirror_mode": {
    "name": "ipython",
    "version": 3
   },
   "file_extension": ".py",
   "mimetype": "text/x-python",
   "name": "python",
   "nbconvert_exporter": "python",
   "pygments_lexer": "ipython3",
   "version": "3.10.0"
  }
 },
 "nbformat": 4,
 "nbformat_minor": 5
}
