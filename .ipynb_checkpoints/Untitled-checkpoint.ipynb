{
 "cells": [
  {
   "cell_type": "code",
   "execution_count": 1,
   "id": "4459ed41",
   "metadata": {},
   "outputs": [],
   "source": [
    "# Data Collection \n",
    "# Data Pre Processing\n",
    "# EDA\n",
    "# Conclusions"
   ]
  },
  {
   "cell_type": "code",
   "execution_count": 2,
   "id": "3c5b4c39",
   "metadata": {},
   "outputs": [],
   "source": [
    "from bs4 import BeautifulSoup as soup\n",
    "from datetime import date,datetime\n",
    "from urllib.request import Request,urlopen\n",
    "import pandas as pd\n",
    "import numpy as np"
   ]
  },
  {
   "cell_type": "code",
   "execution_count": 3,
   "id": "c544aa0e",
   "metadata": {},
   "outputs": [],
   "source": [
    "import matplotlib.pyplot as plt\n",
    "import plotly.graph_objects as go \n",
    "import plotly.express as px\n",
    "import plotly.offline as py \n",
    "import seaborn as sns\n",
    "import gc \n",
    "import warnings\n",
    "warnings.filterwarnings(\"ignore\")\n",
    "from pandas_profiling import profile_report"
   ]
  },
  {
   "cell_type": "markdown",
   "id": "89bcfb6a",
   "metadata": {},
   "source": [
    "# Web Scrapping"
   ]
  },
  {
   "cell_type": "code",
   "execution_count": null,
   "id": "a44a20d3",
   "metadata": {},
   "outputs": [],
   "source": [
    "url = \"https://www.worldometers.info/coronavirus/#countries\"\n",
    "req = Request(url , headers={'User-Agent':\"mozilla/5.0\"})\n",
    "webpage = urlopen(req)\n",
    "page_soup = soup(webpage ,\"html.parser\")\n",
    "print(page_soup)"
   ]
  },
  {
   "cell_type": "code",
   "execution_count": null,
   "id": "cac2b57f",
   "metadata": {},
   "outputs": [],
   "source": [
    "today= datetime.now()\n",
    "yesterday_str = \"%s %d,%d\" % (date.today().strftime(\"%b\"),today.day-1 , today.year)\n",
    "yesterday_str"
   ]
  },
  {
   "cell_type": "code",
   "execution_count": null,
   "id": "efbfdffb",
   "metadata": {},
   "outputs": [],
   "source": [
    "table = page_soup.findAll(\"table\",{\"id\":\"main_table_countries_yesterday\"})\n",
    "\n",
    "containers = table[0].findAll(\"tr\",{\"style\":\"\"})\n",
    "title = containers[0]\n",
    "\n",
    "del containers[0]\n",
    "\n",
    "\n",
    "all_data = []\n",
    "clean = True\n",
    "for country in containers:\n",
    "    country_data=[]\n",
    "    country_container = country.findAll(\"td\")\n",
    "    \n",
    "    if country_container[1].text == \"china\":\n",
    "        continue\n",
    "    for i in range(1, len(country_container)):\n",
    "        final_feature = country_container[i].text\n",
    "        if clean:\n",
    "            if i != 1 and i != len(country_container)-1:\n",
    "                final_feature=final_feature.replace(\",\",\"\")\n",
    "                        \n",
    "                if final_feature.find('+') != -1:\n",
    "                    final_feature = final_feature.replace(\"+\",\"\")\n",
    "                    final_feature = float(final_feature)\n",
    "                elif final_feature.find(\"-\") != -1:\n",
    "                    final_feature = final_feature.replace(\"-\",\"\")\n",
    "                    final_feature = float(final_feature)*-1\n",
    "        if final_feature == \"N/A\":\n",
    "            final_feature = 0\n",
    "        elif final_feature == \"\" or final_feature == \" \":\n",
    "            final_feature = -1\n",
    "                        \n",
    "        country_data.append(final_feature)\n",
    "                \n",
    "    all_data.append(country_data)\n",
    "            \n",
    "        "
   ]
  },
  {
   "cell_type": "code",
   "execution_count": null,
   "id": "9e8874c5",
   "metadata": {},
   "outputs": [],
   "source": [
    "all_data"
   ]
  },
  {
   "cell_type": "code",
   "execution_count": null,
   "id": "785e6e0e",
   "metadata": {},
   "outputs": [],
   "source": [
    "df = pd.DataFrame(all_data)\n",
    "df.drop([15,16,17],inplace=True,axis=1)\n",
    "df.head()"
   ]
  },
  {
   "cell_type": "code",
   "execution_count": null,
   "id": "ca91ae9e",
   "metadata": {},
   "outputs": [],
   "source": [
    "column_labels = [\"Country\", \"Total Cases\",\"New Cases\",\"Total Deaths\",\"New Deaths\",\"Total Recovered\",\"New Recoverd\",\"Active Cases\",\n",
    "                \"Serious,Critical\",\"Tot Cases/1M pop\",\"Deaths/1M pop\",\"Total Tests\",\"Test/1M pop\" ,\"Population\"]\n",
    "df.columns=column_labels"
   ]
  },
  {
   "cell_type": "code",
   "execution_count": null,
   "id": "20624ffe",
   "metadata": {},
   "outputs": [],
   "source": [
    "df.head()"
   ]
  },
  {
   "cell_type": "code",
   "execution_count": null,
   "id": "9dfec5eb",
   "metadata": {},
   "outputs": [],
   "source": [
    "for label in df.columns:\n",
    "    if label != \"Country\" and label != \"Continent\":\n",
    "        df[label]=pd.to_numeric(df[label])"
   ]
  },
  {
   "cell_type": "code",
   "execution_count": null,
   "id": "a9ba15b5",
   "metadata": {},
   "outputs": [],
   "source": [
    "df[\"%Inc Cases\"] = df[\"New Cases\"]/df[\"Total Cases\"]*100\n",
    "df[\"%Inc Deaths\"] = df[\"New Deaths\"]/df[\"Total Deaths\"]*100\n",
    "df[\"%Inc Recovered\"] = df[\"New Recovered\"]/df[\"Total Recovered\"]*100\n"
   ]
  },
  {
   "cell_type": "code",
   "execution_count": null,
   "id": "f71c8a10",
   "metadata": {},
   "outputs": [],
   "source": [
    "df.head()"
   ]
  },
  {
   "cell_type": "markdown",
   "id": "c6342d5b",
   "metadata": {},
   "source": [
    "# EDA"
   ]
  },
  {
   "cell_type": "code",
   "execution_count": null,
   "id": "af7a5cf6",
   "metadata": {},
   "outputs": [],
   "source": [
    "cases = df[[\"Total Recovered\", \"Active Cases\",\"Total Deaths\"]].loc[0]\n",
    "\n",
    "cases_df = pd.DataFrame(cases).reset_index()\n",
    "cases_df\n",
    "\n"
   ]
  },
  {
   "cell_type": "code",
   "execution_count": null,
   "id": "13375367",
   "metadata": {},
   "outputs": [],
   "source": [
    "cases = df[[\"New Cases\", \"New Recoverd\",\"New Deaths\"]].loc[0]\n",
    "\n",
    "cases_df = pd.DataFrame(cases).reset_index()\n",
    "cases_df.columns = [\"Type\", \"Total\"]\n",
    "\n",
    "cases_df[\"percentage\"] = np.around(100*cases_df['Total']/np.sum(cases_df[\"Total\"]),2)\n",
    "cases_df[\"virus\"] = [\"COVID-19\" for i in range(len(cases_df))]\n",
    "\n",
    "fig = px.bar(cases_df,x= \"Virus\",y=\"Percentage\",color=\"Type\",hover_data=['Total'])\n",
    "fig.show()"
   ]
  },
  {
   "cell_type": "code",
   "execution_count": null,
   "id": "e986767f",
   "metadata": {},
   "outputs": [],
   "source": [
    "per = np.round(df[[\"%Inc cases\" , \"%Inc Deaths\" ,\"%Inc Recovred\"]].loc[0],2)\n",
    "per-df = pd.DataFrame(per)\n",
    "per_df.columns = [\"Percentage\"]\n",
    "\n",
    "fig = go.Figure()\n",
    "fig.add_trace(go.bar(x=per_df.index , y =per_df[\"Percentage\"],marker_color=[\"Yellow\",\"blue\",\"red\"]))"
   ]
  },
  {
   "cell_type": "markdown",
   "id": "e51eeed5",
   "metadata": {},
   "source": [
    "# continent"
   ]
  },
  {
   "cell_type": "code",
   "execution_count": null,
   "id": "29554da4",
   "metadata": {},
   "outputs": [],
   "source": [
    "continent_df = df.groupby(\"Continent\").sum().drop(\"All\")\n",
    "\n",
    "continent_df = continent_df.reset_index()\n",
    "continent_df"
   ]
  },
  {
   "cell_type": "code",
   "execution_count": null,
   "id": "33388495",
   "metadata": {},
   "outputs": [],
   "source": [
    "def continent_visualization(v_list):\n",
    "    for lable in v_list:\n",
    "        c_df = continent_df[['Continent',lable]]\n",
    "        c_df[\"Percentage\"] = np.round(100*c_df[lable]/np.sum(c_df[lable]),2)\n",
    "        df[\"virus\"] = [\"covid-19\" for i in range (len(c_df))]\n",
    "        \n",
    "        fig = px.bar(c_df,x=\"Virus\" ,y=\"Percentage\" , color=\"Continent\" , hover_data = [\"label\"])\n",
    "        fig.update_layout(title={\"text\":lable})\n",
    "        fig.show()\n",
    "        "
   ]
  },
  {
   "cell_type": "code",
   "execution_count": null,
   "id": "6403dc4f",
   "metadata": {},
   "outputs": [],
   "source": [
    "casee_list = [\"Total Cases\" , \"Active Cases\" , \"New Cases\" , \"Serious/Critical\" , \"Tot Cases/1M\"]\n",
    "\n",
    "deaths_list = [\"Total Deaths\" , \"New Deaths\" , \"Deaths/1M\"]\n",
    "\n",
    "recoverd_list = [\"Total Recoverd\" , \"New Recovered\" , \"Inc Recoverd\"]"
   ]
  },
  {
   "cell_type": "markdown",
   "id": "8a7c6f17",
   "metadata": {},
   "source": [
    "# Countries"
   ]
  },
  {
   "cell_type": "code",
   "execution_count": null,
   "id": "454e19e3",
   "metadata": {},
   "outputs": [],
   "source": [
    "df = df.drop([len(df)-1])\n",
    "country_df = df.drop([0])\n",
    "\n",
    "country_df"
   ]
  },
  {
   "cell_type": "code",
   "execution_count": 6,
   "id": "9947479d",
   "metadata": {},
   "outputs": [
    {
     "ename": "SyntaxError",
     "evalue": "invalid syntax (3515298314.py, line 14)",
     "output_type": "error",
     "traceback": [
      "\u001b[1;36m  Input \u001b[1;32mIn [6]\u001b[1;36m\u001b[0m\n\u001b[1;33m    fig.update_layout(title = {\"text\":f 'top {LOOK_AT} countries affected'}, yaxis_type = \"log\" )\u001b[0m\n\u001b[1;37m                                        ^\u001b[0m\n\u001b[1;31mSyntaxError\u001b[0m\u001b[1;31m:\u001b[0m invalid syntax\n"
     ]
    }
   ],
   "source": [
    "Look_AT = 5\n",
    "country = country_df.columns[1:14]\n",
    "\n",
    "\n",
    "fig = go.Figure()\n",
    "c = 0\n",
    "for i in country_df.index:\n",
    "    if c < LOOK_AT:\n",
    "        fig.add_trace(go.bar(name = country_df['Country'][i] , x=country , y=country_df.loc[i][1:14] ))\n",
    "    else:\n",
    "        break\n",
    "    c+=1\n",
    "    \n",
    "fig.update_layout(title = {\"text\":f 'top {LOOK_AT} countries affected'}, yaxis_type = \"log\" )\n",
    "fig.show()"
   ]
  },
  {
   "cell_type": "code",
   "execution_count": null,
   "id": "48c3279c",
   "metadata": {},
   "outputs": [],
   "source": []
  },
  {
   "cell_type": "code",
   "execution_count": null,
   "id": "6b7b3462",
   "metadata": {},
   "outputs": [],
   "source": []
  }
 ],
 "metadata": {
  "kernelspec": {
   "display_name": "Python 3 (ipykernel)",
   "language": "python",
   "name": "python3"
  },
  "language_info": {
   "codemirror_mode": {
    "name": "ipython",
    "version": 3
   },
   "file_extension": ".py",
   "mimetype": "text/x-python",
   "name": "python",
   "nbconvert_exporter": "python",
   "pygments_lexer": "ipython3",
   "version": "3.10.0"
  }
 },
 "nbformat": 4,
 "nbformat_minor": 5
}
